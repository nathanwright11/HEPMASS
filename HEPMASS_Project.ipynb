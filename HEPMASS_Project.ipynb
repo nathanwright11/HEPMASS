{
 "cells": [
  {
   "cell_type": "code",
   "execution_count": 1,
   "metadata": {},
   "outputs": [],
   "source": [
    "import pandas as pd\n",
    "import numpy as np\n",
    "import tensorflow as tf\n",
    "from sklearn.preprocessing import StandardScaler, LabelEncoder\n",
    "import matplotlib.pyplot as plt\n",
    "%matplotlib inline"
   ]
  },
  {
   "cell_type": "markdown",
   "metadata": {},
   "source": [
    "## 1000 Dataset"
   ]
  },
  {
   "cell_type": "code",
   "execution_count": 2,
   "metadata": {},
   "outputs": [],
   "source": [
    "#Preparation of data for datset of only 1000 GeV mass particle\n",
    "    #Training data was messed up so I had to fix it by splitting it up into different files\n",
    "df_train_1 = pd.read_csv(\"1000_train_1.csv\")\n",
    "df_train_2 = pd.read_csv(\"1000_train_2.csv\")\n",
    "df_train_3 = pd.read_csv(\"1000_train_3.csv\")\n",
    "df_train_4 = pd.read_csv(\"1000_train_4.csv\")\n",
    "df_train_5 = pd.read_csv(\"1000_train_5.csv\")\n",
    "df_train_6 = pd.read_csv(\"1000_train_6.csv\")\n",
    "df_train_7 = pd.read_csv(\"1000_train_7.csv\")\n",
    "df_train_8 = pd.read_csv(\"1000_train_8.csv\")\n",
    "df_test = pd.read_csv(\"1000_test.csv\")\n",
    "\n",
    "#Combining of 8 training data segments into one dataframe\n",
    "df_train_list = [df_train_2, df_train_3, df_train_4, df_train_5, df_train_6, df_train_7, df_train_8]\n",
    "df_train = df_train_1.append(df_train_list, ignore_index=True)\n",
    "\n",
    "#Adds mass column to match the other datasets\n",
    "df_train.insert(len(df_train.columns), 'mass', 1000, allow_duplicates=True)\n",
    "df_test.insert(len(df_test.columns), 'mass', 1000, allow_duplicates=True)"
   ]
  },
  {
   "cell_type": "code",
   "execution_count": 3,
   "metadata": {},
   "outputs": [],
   "source": [
    "#Data check\n",
    "#df_train.head()"
   ]
  },
  {
   "cell_type": "code",
   "execution_count": 4,
   "metadata": {},
   "outputs": [],
   "source": [
    "#Data check\n",
    "#df_test.head()"
   ]
  },
  {
   "cell_type": "markdown",
   "metadata": {},
   "source": [
    "## Not-1000 Dataset (500, 750, 1250, 1500)"
   ]
  },
  {
   "cell_type": "code",
   "execution_count": 5,
   "metadata": {},
   "outputs": [],
   "source": [
    "#Reading in dataset for events of all masses except 1000 mass particle (500, 750, 1250, 1500)\n",
    "df_train_not = pd.read_csv(\"not1000_train.csv\")\n",
    "df_test_not = pd.read_csv(\"not1000_test.csv\")"
   ]
  },
  {
   "cell_type": "code",
   "execution_count": 6,
   "metadata": {},
   "outputs": [],
   "source": [
    "#Rounds mass values to whole numbers (some are floats)\n",
    "df_train_not['mass'] = df_train_not['mass'].apply(lambda x: round(x))\n",
    "df_test_not['mass'] = df_test_not['mass'].apply(lambda x: round(x))"
   ]
  },
  {
   "cell_type": "code",
   "execution_count": 7,
   "metadata": {},
   "outputs": [],
   "source": [
    "#Data check\n",
    "#df_train_not.head()"
   ]
  },
  {
   "cell_type": "code",
   "execution_count": 8,
   "metadata": {},
   "outputs": [],
   "source": [
    "#Data check\n",
    "#df_test_not.head()"
   ]
  },
  {
   "cell_type": "markdown",
   "metadata": {},
   "source": [
    "## All Dataset (500, 750, 1000, 1250, 1500)"
   ]
  },
  {
   "cell_type": "code",
   "execution_count": 9,
   "metadata": {},
   "outputs": [],
   "source": [
    "#Reading in dataset for events of all masses (500, 750, 1000, 1250, 1500)\n",
    "df_train_all = pd.read_csv(\"all_train.csv\")\n",
    "df_test_all = pd.read_csv(\"all_test.csv\")"
   ]
  },
  {
   "cell_type": "code",
   "execution_count": 10,
   "metadata": {},
   "outputs": [],
   "source": [
    "#Rounds mass values to whole numbers (some are floats)\n",
    "df_train_all['mass'] = df_train_all['mass'].apply(lambda x: round(x))\n",
    "df_test_all['mass'] = df_test_all['mass'].apply(lambda x: round(x))"
   ]
  },
  {
   "cell_type": "code",
   "execution_count": 11,
   "metadata": {},
   "outputs": [],
   "source": [
    "#Data check\n",
    "#df_train_all.head()"
   ]
  },
  {
   "cell_type": "code",
   "execution_count": 12,
   "metadata": {},
   "outputs": [],
   "source": [
    "#Data check \n",
    "#df_test_all.head()"
   ]
  },
  {
   "cell_type": "markdown",
   "metadata": {},
   "source": [
    "### DataFrame Splitting"
   ]
  },
  {
   "cell_type": "code",
   "execution_count": 13,
   "metadata": {},
   "outputs": [],
   "source": [
    "#Splitting data into input/output variables and mass parameters for classification\n",
    "\n",
    "#1000-mass dataset\n",
    "#train\n",
    "train_labels = df_train['# label']\n",
    "df_train_param = df_train['mass']\n",
    "df_train_feat = df_train.drop(columns=['# label', 'mass'])\n",
    "#test\n",
    "test_labels = df_test['# label']\n",
    "df_test_param = df_test['mass']\n",
    "df_test_feat = df_test.drop(columns=['# label', 'mass'])\n",
    "\n",
    "# Not-1000 dataset\n",
    "#train\n",
    "trainNot_labels = df_train_not['# label']\n",
    "df_trainNot_param = df_train_not['mass']\n",
    "df_trainNot_feat = df_train_not.drop(columns=['# label', 'mass'])\n",
    "#test\n",
    "testNot_labels = df_test_not['# label']\n",
    "df_testNot_param = df_test_not['mass']\n",
    "df_testNot_feat = df_test_not.drop(columns=['# label', 'mass'])\n",
    "\n",
    "#All mass dataset\n",
    "#train\n",
    "trainAll_labels = df_train_all['# label']\n",
    "df_trainAll_param = df_train_all['mass']\n",
    "df_trainAll_feat = df_train_all.drop(columns=['# label', 'mass'])\n",
    "#test\n",
    "testAll_labels = df_test_all['# label']\n",
    "df_testAll_param = df_test_all['mass']\n",
    "df_testAll_feat = df_test_all.drop(columns=['# label', 'mass'])"
   ]
  },
  {
   "cell_type": "markdown",
   "metadata": {},
   "source": [
    "### Scaling/Encoding data"
   ]
  },
  {
   "cell_type": "code",
   "execution_count": 15,
   "metadata": {},
   "outputs": [],
   "source": [
    "#Features are centered then scaled\n",
    "train_feat = StandardScaler().fit_transform(df_train_feat)\n",
    "test_feat = StandardScaler().fit_transform(df_test_feat)\n",
    "\n",
    "trainNot_feat = StandardScaler().fit_transform(df_trainNot_feat)\n",
    "testNot_feat = StandardScaler().fit_transform(df_testNot_feat)\n",
    "\n",
    "trainAll_feat = StandardScaler().fit_transform(df_trainAll_feat)\n",
    "testAll_feat = StandardScaler().fit_transform(df_testAll_feat)"
   ]
  },
  {
   "cell_type": "code",
   "execution_count": 16,
   "metadata": {},
   "outputs": [],
   "source": [
    "#mass parameters are encoded to be int between 0-4\n",
    "le = LabelEncoder()\n",
    "le.fit(df_trainAll_param)\n",
    "\n",
    "#1000-mass data\n",
    "train_param = le.transform(df_train_param)\n",
    "test_param = le.transform(df_test_param)\n",
    "\n",
    "#Not-1000 data\n",
    "trainNot_param = le.transform(df_trainNot_param)\n",
    "testNot_param = le.transform(df_testNot_param)\n",
    "\n",
    "#All mass dataset\n",
    "trainAll_param = le.transform(df_trainAll_param)\n",
    "testAll_param = le.transform(df_testAll_param)"
   ]
  },
  {
   "cell_type": "markdown",
   "metadata": {},
   "source": [
    "### Recombining features and parameters"
   ]
  },
  {
   "cell_type": "code",
   "execution_count": 17,
   "metadata": {},
   "outputs": [],
   "source": [
    "#1000-mass dataset\n",
    "train_param = np.reshape(train_param, (-1,1))\n",
    "train = np.concatenate([train_feat,train_param], axis=1)\n",
    "\n",
    "test_param = np.reshape(test_param, (-1,1))\n",
    "test = np.concatenate([test_feat,test_param], axis=1)\n",
    "\n",
    "#Not-1000 dataset\n",
    "trainNot_param = np.reshape(trainNot_param, (-1,1))\n",
    "trainNot = np.concatenate([trainNot_feat,trainNot_param], axis=1)\n",
    "\n",
    "testNot_param = np.reshape(testNot_param, (-1,1))\n",
    "testNot = np.concatenate([testNot_feat,testNot_param], axis=1)\n",
    "\n",
    "#All mass dataset\n",
    "trainAll_param = np.reshape(trainAll_param, (-1,1))\n",
    "trainAll = np.concatenate([trainAll_feat,trainAll_param], axis=1)\n",
    "\n",
    "testAll_param = np.reshape(testAll_param, (-1,1))\n",
    "testAll = np.concatenate([testAll_feat,testAll_param], axis=1)"
   ]
  },
  {
   "cell_type": "markdown",
   "metadata": {},
   "source": [
    "### Neural Network"
   ]
  },
  {
   "cell_type": "code",
   "execution_count": 18,
   "metadata": {},
   "outputs": [],
   "source": [
    "#print(\"Num GPUs Available: \", len(tf.config.experimental.list_physical_devices('GPU')))"
   ]
  },
  {
   "cell_type": "code",
   "execution_count": 19,
   "metadata": {},
   "outputs": [],
   "source": [
    "inputs = tf.keras.Input(shape=(28,), name='features')\n",
    "hidden_1 = tf.keras.layers.Dense(20, activation='relu')(inputs)\n",
    "#hidden_2 = tf.keras.layers.Dense(20, activation='relu')(hidden_1)\n",
    "concat = tf.keras.layers.Concatenate()([inputs, hidden_1])\n",
    "output = tf.keras.layers.Dense(1, activation='sigmoid', name='output')(hidden_1)\n",
    "\n",
    "model = tf.keras.Model(inputs=inputs, outputs=output)"
   ]
  },
  {
   "cell_type": "code",
   "execution_count": 20,
   "metadata": {},
   "outputs": [
    {
     "name": "stdout",
     "output_type": "stream",
     "text": [
      "Epoch 1/3\n",
      "WARNING:tensorflow:AutoGraph could not transform <function Model.make_train_function.<locals>.train_function at 0x000002A4A2F48DC8> and will run it as-is.\n",
      "Please report this to the TensorFlow team. When filing the bug, set the verbosity to 10 (on Linux, `export AUTOGRAPH_VERBOSITY=10`) and attach the full output.\n",
      "Cause: 'arguments' object has no attribute 'posonlyargs'\n",
      "To silence this warning, decorate the function with @tf.autograph.experimental.do_not_convert\n",
      "WARNING: AutoGraph could not transform <function Model.make_train_function.<locals>.train_function at 0x000002A4A2F48DC8> and will run it as-is.\n",
      "Please report this to the TensorFlow team. When filing the bug, set the verbosity to 10 (on Linux, `export AUTOGRAPH_VERBOSITY=10`) and attach the full output.\n",
      "Cause: 'arguments' object has no attribute 'posonlyargs'\n",
      "To silence this warning, decorate the function with @tf.autograph.experimental.do_not_convert\n",
      "699988/700000 [============================>.] - ETA: 0s - loss: 0.3202 - accuracy: 0.8475 - precision: 0.8323 - recall: 0.8705WARNING:tensorflow:AutoGraph could not transform <function Model.make_test_function.<locals>.test_function at 0x000002A5F58D0558> and will run it as-is.\n",
      "Please report this to the TensorFlow team. When filing the bug, set the verbosity to 10 (on Linux, `export AUTOGRAPH_VERBOSITY=10`) and attach the full output.\n",
      "Cause: 'arguments' object has no attribute 'posonlyargs'\n",
      "To silence this warning, decorate the function with @tf.autograph.experimental.do_not_convert\n",
      "WARNING: AutoGraph could not transform <function Model.make_test_function.<locals>.test_function at 0x000002A5F58D0558> and will run it as-is.\n",
      "Please report this to the TensorFlow team. When filing the bug, set the verbosity to 10 (on Linux, `export AUTOGRAPH_VERBOSITY=10`) and attach the full output.\n",
      "Cause: 'arguments' object has no attribute 'posonlyargs'\n",
      "To silence this warning, decorate the function with @tf.autograph.experimental.do_not_convert\n",
      "700000/700000 [==============================] - 1486s 2ms/step - loss: 0.3202 - accuracy: 0.8475 - precision: 0.8323 - recall: 0.8705 - val_loss: 0.3186 - val_accuracy: 0.8486 - val_precision: 0.8448 - val_recall: 0.8543\n",
      "Epoch 2/3\n",
      "700000/700000 [==============================] - 1472s 2ms/step - loss: 0.3161 - accuracy: 0.8503 - precision: 0.8331 - recall: 0.8762 - val_loss: 0.3146 - val_accuracy: 0.8512 - val_precision: 0.8296 - val_recall: 0.8841\n",
      "Epoch 3/3\n",
      "700000/700000 [==============================] - 1479s 2ms/step - loss: 0.3159 - accuracy: 0.8504 - precision: 0.8329 - recall: 0.8768 - val_loss: 0.3154 - val_accuracy: 0.8503 - val_precision: 0.8326 - val_recall: 0.8770\n"
     ]
    }
   ],
   "source": [
    "model.compile(optimizer=tf.keras.optimizers.SGD(momentum=0.9, nesterov=True),\n",
    "                  loss='binary_crossentropy', \n",
    "                  metrics=[['accuracy'], ['Precision'], ['Recall']])\n",
    "\n",
    "history = model.fit(trainNot, \n",
    "                    trainNot_labels, \n",
    "                    validation_split=0.2, \n",
    "                    batch_size=8, \n",
    "                    epochs=3, \n",
    "                    use_multiprocessing=True, \n",
    "                    workers=4, \n",
    "                    verbose=True)"
   ]
  },
  {
   "cell_type": "code",
   "execution_count": 21,
   "metadata": {},
   "outputs": [
    {
     "name": "stdout",
     "output_type": "stream",
     "text": [
      "437500/437500 [==============================] - 689s 2ms/step - loss: 0.2205 - accuracy: 0.9144 - precision: 0.9000 - recall: 0.9324\n",
      "WARNING:tensorflow:AutoGraph could not transform <function Model.make_predict_function.<locals>.predict_function at 0x000002A6044C6438> and will run it as-is.\n",
      "Please report this to the TensorFlow team. When filing the bug, set the verbosity to 10 (on Linux, `export AUTOGRAPH_VERBOSITY=10`) and attach the full output.\n",
      "Cause: 'arguments' object has no attribute 'posonlyargs'\n",
      "To silence this warning, decorate the function with @tf.autograph.experimental.do_not_convert\n",
      "WARNING: AutoGraph could not transform <function Model.make_predict_function.<locals>.predict_function at 0x000002A6044C6438> and will run it as-is.\n",
      "Please report this to the TensorFlow team. When filing the bug, set the verbosity to 10 (on Linux, `export AUTOGRAPH_VERBOSITY=10`) and attach the full output.\n",
      "Cause: 'arguments' object has no attribute 'posonlyargs'\n",
      "To silence this warning, decorate the function with @tf.autograph.experimental.do_not_convert\n"
     ]
    }
   ],
   "source": [
    "loss, acc, pre, rec = model.evaluate(test, \n",
    "                                     test_labels, \n",
    "                                     batch_size=8,\n",
    "                                     workers=4,\n",
    "                                     use_multiprocessing=True) \n",
    "pred = model.predict(test,\n",
    "                     batch_size=8,\n",
    "                     workers=4,\n",
    "                     use_multiprocessing=True)"
   ]
  },
  {
   "cell_type": "code",
   "execution_count": 22,
   "metadata": {},
   "outputs": [
    {
     "name": "stdout",
     "output_type": "stream",
     "text": [
      "437500/437500 [==============================] - 689s 2ms/step - loss: 0.3150 - accuracy: 0.8504 - precision: 0.8323 - recall: 0.8775\n"
     ]
    }
   ],
   "source": [
    "loss_not, acc_not, pre_not, rec_not = model.evaluate(testNot, \n",
    "                                                     testNot_labels,\n",
    "                                                     batch_size=8, \n",
    "                                                     workers=4, \n",
    "                                                     use_multiprocessing=True)\n",
    "not_pred = model.predict(testNot,\n",
    "                         batch_size=8,\n",
    "                         workers=4,\n",
    "                         use_multiprocessing=True)"
   ]
  },
  {
   "cell_type": "code",
   "execution_count": 23,
   "metadata": {
    "scrolled": true
   },
   "outputs": [
    {
     "name": "stdout",
     "output_type": "stream",
     "text": [
      "437500/437500 [==============================] - 688s 2ms/step - loss: 0.2967 - accuracy: 0.8627 - precision: 0.8459 - recall: 0.8867\n"
     ]
    }
   ],
   "source": [
    "# loss_all, acc_all, pre_all, rec_all = model.evaluate(testAll, \n",
    "#                                                      testAll_labels,\n",
    "#                                                      batch_size=8, \n",
    "#                                                      workers=4, \n",
    "#                                                      use_multiprocessing=True) \n",
    "# all_pred = model.predict(testAll,\n",
    "#                          batch_size=8,\n",
    "#                          workers=4,\n",
    "#                          use_multiprocessing=True)"
   ]
  },
  {
   "cell_type": "code",
   "execution_count": 24,
   "metadata": {},
   "outputs": [
    {
     "name": "stdout",
     "output_type": "stream",
     "text": [
      "\n",
      "Model trained on not1000-data:\n",
      "\n",
      "Accuracy on 1000-test data: 91.4%\n",
      "Precision on 1000-test data: 90.0%\n",
      "Recall on 1000-test data: 93.2%\n",
      "\n",
      "Accuracy on not1000-test data: 85.0%\n",
      "Precision on not1000-test data: 83.2%\n",
      "Recall on not1000-test data: 87.8%\n",
      "\n",
      "Accuracy on all1000-test data: 86.3%\n",
      "Precision on all1000-test data: 84.6%\n",
      "Recall on all1000-test data: 88.7%\n"
     ]
    }
   ],
   "source": [
    "print(f'\\nModel trained on not1000-data:')\n",
    "print(f'\\nAccuracy on 1000-test data: {acc*100:.1f}%')\n",
    "print(f'Precision on 1000-test data: {pre*100:.1f}%')\n",
    "print(f'Recall on 1000-test data: {rec*100:.1f}%')\n",
    " \n",
    "print(f'\\nAccuracy on not1000-test data: {acc_not*100:.1f}%')\n",
    "print(f'Precision on not1000-test data: {pre_not*100:.1f}%')\n",
    "print(f'Recall on not1000-test data: {rec_not*100:.1f}%')\n",
    "\n",
    "# print(f'\\nAccuracy on all1000-test data: {acc_all*100:.1f}%')\n",
    "# print(f'Precision on all1000-test data: {pre_all*100:.1f}%')\n",
    "# print(f'Recall on all1000-test data: {rec_all*100:.1f}%')"
   ]
  },
  {
   "cell_type": "code",
   "execution_count": 25,
   "metadata": {},
   "outputs": [],
   "source": [
    "#Rounds class predictions to either 0 or 1\n",
    "test_pred = np.where(pred > 0.5, 1., 0.)\n",
    "\n",
    "#Copies dataframe to more useful name\n",
    "df_test_pred = df_test_feat\n",
    "\n",
    "#adds predicted labels to dataframe\n",
    "df_test_pred.insert(0, '# label', test_pred)"
   ]
  },
  {
   "cell_type": "code",
   "execution_count": 26,
   "metadata": {},
   "outputs": [
    {
     "data": {
      "image/png": "[encoded data removed]",
      "text/plain": [
       "<Figure size 432x288 with 1 Axes>"
      ]
     },
     "metadata": {
      "needs_background": "light"
     },
     "output_type": "display_data"
    }
   ],
   "source": [
    "pred_bkg = df_test_pred[df_test_pred['# label'] == 0.]\n",
    "pred_sig = df_test_pred[df_test_pred['# label'] == 1.]\n",
    "\n",
    "#predicted background histogram\n",
    "n_bkg, bins_bkg, p_bkg = plt.hist(pred_bkg['f6'], bins=200);\n",
    "\n",
    "#predicted signal histogram\n",
    "n_sig, bins_sig, p_sig = plt.hist(pred_sig['f6'], bins=200);"
   ]
  },
  {
   "cell_type": "code",
   "execution_count": 28,
   "metadata": {},
   "outputs": [
    {
     "data": {
      "image/png": "[encoded data removed]",
      "text/plain": [
       "<Figure size 504x360 with 1 Axes>"
      ]
     },
     "metadata": {
      "needs_background": "light"
     },
     "output_type": "display_data"
    }
   ],
   "source": [
    "plt.figure(figsize=(7,5))\n",
    "\n",
    "#Background\n",
    "n, bins, patches = plt.hist(df_test['f6'][df_test['# label'] == 0], bins=200, \n",
    "                            alpha=0.7, label='bkg')\n",
    "#gets bin center for background events\n",
    "bkg_cntr = 0.5*(bins_bkg[1:]+bins_bkg[:-1])\n",
    "#plots predicted background labels\n",
    "plt.errorbar(bkg_cntr, n_bkg, yerr=0, fmt='.k')\n",
    "\n",
    "#Signal\n",
    "n, bins, patches = plt.hist(df_test['f6'][df_test['# label'] == 1], bins=200, \n",
    "                            alpha=0.7, label='sig')\n",
    "#gets bin center for signal events\n",
    "sig_cntr = 0.5*(bins_sig[1:]+bins_sig[:-1])\n",
    "#plots predicted signal labels\n",
    "plt.errorbar(sig_cntr, n_sig, yerr=0, fmt='.k', label='predicted')\n",
    "\n",
    "\n",
    "plt.xlabel('Normalized Lepton Transverse Momentum')\n",
    "plt.ylabel('Number of events')\n",
    "plt.title('Predicted vs. True Events for 1000 GeV particle')\n",
    "plt.legend()\n",
    "#plt.savefig('predSigHist.png')\n",
    "plt.show()"
   ]
  },
  {
   "cell_type": "code",
   "execution_count": null,
   "metadata": {},
   "outputs": [],
   "source": []
  }
 ],
 "metadata": {
  "kernelspec": {
   "display_name": "Python 3",
   "language": "python",
   "name": "python3"
  },
  "language_info": {
   "codemirror_mode": {
    "name": "ipython",
    "version": 3
   },
   "file_extension": ".py",
   "mimetype": "text/x-python",
   "name": "python",
   "nbconvert_exporter": "python",
   "pygments_lexer": "ipython3",
   "version": "3.7.4"
  }
 },
 "nbformat": 4,
 "nbformat_minor": 4
}
